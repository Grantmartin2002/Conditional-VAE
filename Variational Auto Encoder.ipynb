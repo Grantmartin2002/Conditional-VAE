{
 "cells": [
  {
   "cell_type": "code",
   "execution_count": 130,
   "id": "42bb7aad-e40c-4b41-96e6-ad65cef59a63",
   "metadata": {},
   "outputs": [],
   "source": [
    "import torch\n",
    "import torch.nn as nn\n",
    "import torch.nn.functional as F\n",
    "import torch.optim as optim\n",
    "from torchvision import datasets, transforms\n",
    "from torch.autograd import Variable\n",
    "from torchvision.utils import save_image\n",
    "from matplotlib import pyplot as plt"
   ]
  },
  {
   "cell_type": "code",
   "execution_count": 131,
   "id": "e5ac1c8b",
   "metadata": {},
   "outputs": [],
   "source": [
    "dataset = 'dataset'\n",
    "\n",
    "bs = 100\n",
    "# MNIST Dataset\n",
    "train_dataset = datasets.MNIST(root=dataset, train=True, transform=transforms.ToTensor(), download=True)\n",
    "test_dataset = datasets.MNIST(root=dataset, train=False, transform=transforms.ToTensor(), download=False)\n",
    "\n",
    "# Data Loader (Input Pipeline)\n",
    "train_loader = torch.utils.data.DataLoader(dataset=train_dataset, batch_size=bs, shuffle=True)\n",
    "test_loader = torch.utils.data.DataLoader(dataset=test_dataset, batch_size=bs, shuffle=False)"
   ]
  },
  {
   "cell_type": "markdown",
   "id": "0f3d67b5-243d-4518-8eb4-dbc1e50dde91",
   "metadata": {},
   "source": [
    "### Import Data ###"
   ]
  },
  {
   "cell_type": "code",
   "execution_count": 132,
   "id": "194819fe-4c06-4e5b-bbc0-f0c6b6aed2e7",
   "metadata": {},
   "outputs": [],
   "source": [
    "class VAE(nn.Module):\n",
    "    def __init__(self, x_dim, h_dim1, h_dim2, z_dim):\n",
    "        super(VAE, self).__init__()\n",
    "        # there are 2 max poolings which each half the sqrt dim of x.dim\n",
    "        size_of_flattened = int(64*(x_dim/((2*2)**2)))\n",
    "        self.encoderLayers = nn.Sequential(\n",
    "            nn.Conv2d(in_channels=1, out_channels=32, kernel_size=3, padding=1),\n",
    "            nn.ReLU(),\n",
    "            nn.MaxPool2d(kernel_size=2, stride=2),\n",
    "            nn.Conv2d(in_channels=32, out_channels=64, kernel_size=3, padding=1),\n",
    "            nn.ReLU(),\n",
    "            nn.MaxPool2d(kernel_size=2, stride=2),\n",
    "            nn.Flatten(),\n",
    "            nn.Linear(in_features=size_of_flattened, out_features=256),\n",
    "            nn.ReLU()\n",
    "        )\n",
    "\n",
    "        self.mu_sample_layer = nn.Linear(in_features=256, out_features=z_dim)\n",
    "        self.log_var_sample_layer = nn.Linear(in_features=256, out_features=z_dim)\n",
    "\n",
    "        # decoder part\n",
    "        self.decoder_conv = nn.Sequential(\n",
    "            nn.Linear(z_dim, 28*28),\n",
    "            nn.ReLU(),\n",
    "            nn.Unflatten(dim=1, unflattened_size=(1, 28, 28)),\n",
    "            # nn.ConvTranspose2d(in_channels=1, out_channels=8, kernel_size=3, stride=2, output_padding=0),\n",
    "            # nn.BatchNorm2d(8),\n",
    "            # nn.ReLU(True),\n",
    "            # nn.ConvTranspose2d(in_channels = 8, out_channels = 8, kernel_size=3, stride=2, padding=1, output_padding=1),\n",
    "            # nn.BatchNorm2d(8),\n",
    "            # nn.ReLU(True),\n",
    "            # nn.ConvTranspose2d(in_channels=8, out_channels=1, kernel_size=3, stride=2, padding=1, output_padding=1)\n",
    "            nn.Linear(in_features=28, out_features=28),\n",
    "            nn.ReLU(),\n",
    "            nn.Linear(in_features=28, out_features=28),\n",
    "            nn.ReLU()\n",
    "        )\n",
    "        \n",
    "    def encoder(self, x):\n",
    "        h = self.encoderLayers(x)\n",
    "        return self.mu_sample_layer(h), self.log_var_sample_layer(h) # mu, log_var\n",
    "    \n",
    "    def sampling(self, mu, log_var):\n",
    "        std = torch.exp(0.5*log_var)\n",
    "        eps = torch.randn_like(std)\n",
    "        return eps.mul(std).add_(mu) # return z sample\n",
    "        \n",
    "    def decoder(self, z):\n",
    "        h = self.decoder_conv(z)\n",
    "        return F.sigmoid(h)  \n",
    "    \n",
    "    def forward(self, x):\n",
    "        # flatten\n",
    "        mu, log_var = self.encoder(x)\n",
    "        z = self.sampling(mu, log_var)\n",
    "        return self.decoder(z), mu, log_var\n",
    "\n",
    "# build model\n",
    "vae = VAE(x_dim=784, h_dim1= 512, h_dim2=256, z_dim=2)\n",
    "if torch.cuda.is_available():\n",
    "    vae.cuda()"
   ]
  },
  {
   "cell_type": "code",
   "execution_count": null,
   "id": "1d691b90-6e60-467e-b5de-c351c809a203",
   "metadata": {},
   "outputs": [
    {
     "data": {
      "text/plain": [
       "VAE(\n",
       "  (encoderLayers): Sequential(\n",
       "    (0): Conv2d(1, 32, kernel_size=(3, 3), stride=(1, 1), padding=(1, 1))\n",
       "    (1): ReLU()\n",
       "    (2): MaxPool2d(kernel_size=2, stride=2, padding=0, dilation=1, ceil_mode=False)\n",
       "    (3): Conv2d(32, 64, kernel_size=(3, 3), stride=(1, 1), padding=(1, 1))\n",
       "    (4): ReLU()\n",
       "    (5): MaxPool2d(kernel_size=2, stride=2, padding=0, dilation=1, ceil_mode=False)\n",
       "    (6): Flatten(start_dim=1, end_dim=-1)\n",
       "    (7): Linear(in_features=3136, out_features=256, bias=True)\n",
       "    (8): ReLU()\n",
       "  )\n",
       "  (mu_sample_layer): Linear(in_features=256, out_features=2, bias=True)\n",
       "  (log_var_sample_layer): Linear(in_features=256, out_features=2, bias=True)\n",
       "  (decoder_conv): Sequential(\n",
       "    (0): Linear(in_features=2, out_features=784, bias=True)\n",
       "    (1): ReLU()\n",
       "    (2): Unflatten(dim=1, unflattened_size=(1, 28, 28))\n",
       "    (3): Linear(in_features=28, out_features=28, bias=True)\n",
       "    (4): ReLU()\n",
       "    (5): Linear(in_features=28, out_features=28, bias=True)\n",
       "    (6): ReLU()\n",
       "  )\n",
       ")"
      ]
     },
     "execution_count": 124,
     "metadata": {},
     "output_type": "execute_result"
    }
   ],
   "source": [
    "vae"
   ]
  },
  {
   "cell_type": "code",
   "execution_count": 125,
   "id": "0c46a80f-c1aa-4b80-a39f-7446886a87f0",
   "metadata": {},
   "outputs": [],
   "source": [
    "optimizer = optim.Adam(vae.parameters())\n",
    "# return reconstruction error + KL divergence losses\n",
    "def loss_function(recon_x, x, mu, log_var):\n",
    "    #print the shapes\n",
    "    BCE = F.binary_cross_entropy(recon_x, x, reduction='sum')\n",
    "    KLD = -0.5 * torch.sum(1 + log_var - mu.pow(2) - log_var.exp())\n",
    "    return BCE + KLD"
   ]
  },
  {
   "cell_type": "markdown",
   "id": "0c5e2b03-d249-4f62-bcdd-c5b237768905",
   "metadata": {},
   "source": [
    "### Encoder and Decoder ###"
   ]
  },
  {
   "cell_type": "code",
   "execution_count": 126,
   "id": "5bd11852-4673-4357-bf3e-1d316f8c8a4e",
   "metadata": {},
   "outputs": [],
   "source": [
    "def train(epoch):\n",
    "    vae.train()\n",
    "    train_loss = 0\n",
    "    for batch_idx, (data, _) in enumerate(train_loader):\n",
    "        data = data\n",
    "        optimizer.zero_grad()\n",
    "        recon_batch, mu, log_var = vae(data)\n",
    "        loss = loss_function(recon_batch, data, mu, log_var)\n",
    "        \n",
    "        loss.backward()\n",
    "        train_loss += loss.item()\n",
    "        optimizer.step()\n",
    "        \n",
    "        if batch_idx % 100 == 0:\n",
    "            print('Train Epoch: {} [{}/{} ({:.0f}%)]\\tLoss: {:.6f}'.format(\n",
    "                epoch, batch_idx * len(data), len(train_loader.dataset),\n",
    "                100. * batch_idx / len(train_loader), loss.item() / len(data)))\n",
    "    print('====> Epoch: {} Average loss: {:.4f}'.format(epoch, train_loss / len(train_loader.dataset)))"
   ]
  },
  {
   "cell_type": "code",
   "execution_count": 127,
   "id": "7c8a1338-4518-4e38-b0b6-2283b3bfa1b6",
   "metadata": {},
   "outputs": [],
   "source": [
    "\n",
    "def test():\n",
    "    vae.eval()\n",
    "    test_loss= 0\n",
    "    with torch.no_grad():\n",
    "        for data, _ in test_loader:\n",
    "            data = data\n",
    "            recon, mu, log_var = vae(data)\n",
    "            \n",
    "            # sum up batch loss\n",
    "            test_loss += loss_function(recon, data, mu, log_var).item()\n",
    "        \n",
    "    test_loss /= len(test_loader.dataset)\n",
    "    print('====> Test set loss: {:.4f}'.format(test_loss))"
   ]
  },
  {
   "cell_type": "code",
   "execution_count": 128,
   "id": "00829806",
   "metadata": {},
   "outputs": [
    {
     "name": "stdout",
     "output_type": "stream",
     "text": [
      "torch.Size([1, 1, 28, 28])\n",
      "torch.Size([1, 1, 28, 28])\n"
     ]
    }
   ],
   "source": [
    "#Try running one sample through the autoencoder\n",
    "sample = next(iter(test_loader))[0][0]\n",
    "print(sample.unsqueeze(0).shape)\n",
    "encoderResults = vae.encoder(sample.unsqueeze(0))\n",
    "\n",
    "sampleResults = vae.sampling(encoderResults[0], encoderResults[1])\n",
    "\n",
    "decoderResults = vae.decoder(sampleResults)\n",
    "print(decoderResults.shape)"
   ]
  },
  {
   "cell_type": "code",
   "execution_count": 133,
   "id": "9f7947b2-887b-4607-b49d-e235385f64a1",
   "metadata": {},
   "outputs": [
    {
     "name": "stdout",
     "output_type": "stream",
     "text": [
      "Train Epoch: 1 [0/60000 (0%)]\tLoss: 559.895898\n",
      "Train Epoch: 1 [10000/60000 (17%)]\tLoss: 560.394258\n",
      "Train Epoch: 1 [20000/60000 (33%)]\tLoss: 560.597617\n",
      "Train Epoch: 1 [30000/60000 (50%)]\tLoss: 560.289609\n",
      "Train Epoch: 1 [40000/60000 (67%)]\tLoss: 559.980742\n",
      "Train Epoch: 1 [50000/60000 (83%)]\tLoss: 559.765898\n",
      "====> Epoch: 1 Average loss: 560.2971\n",
      "====> Test set loss: 560.2769\n",
      "Train Epoch: 2 [0/60000 (0%)]\tLoss: 560.298242\n",
      "Train Epoch: 2 [10000/60000 (17%)]\tLoss: 560.001602\n",
      "Train Epoch: 2 [20000/60000 (33%)]\tLoss: 560.408789\n",
      "Train Epoch: 2 [30000/60000 (50%)]\tLoss: 560.297852\n",
      "Train Epoch: 2 [40000/60000 (67%)]\tLoss: 560.199766\n",
      "Train Epoch: 2 [50000/60000 (83%)]\tLoss: 560.390625\n",
      "====> Epoch: 2 Average loss: 560.2953\n",
      "====> Test set loss: 560.2573\n",
      "Train Epoch: 3 [0/60000 (0%)]\tLoss: 560.357969\n",
      "Train Epoch: 3 [10000/60000 (17%)]\tLoss: 561.169922\n",
      "Train Epoch: 3 [20000/60000 (33%)]\tLoss: 560.628555\n",
      "Train Epoch: 3 [30000/60000 (50%)]\tLoss: 560.375937\n",
      "Train Epoch: 3 [40000/60000 (67%)]\tLoss: 560.311602\n",
      "Train Epoch: 3 [50000/60000 (83%)]\tLoss: 559.925664\n"
     ]
    },
    {
     "ename": "KeyboardInterrupt",
     "evalue": "",
     "output_type": "error",
     "traceback": [
      "\u001b[0;31m---------------------------------------------------------------------------\u001b[0m",
      "\u001b[0;31mKeyboardInterrupt\u001b[0m                         Traceback (most recent call last)",
      "Cell \u001b[0;32mIn[133], line 2\u001b[0m\n\u001b[1;32m      1\u001b[0m \u001b[39mfor\u001b[39;00m epoch \u001b[39min\u001b[39;00m \u001b[39mrange\u001b[39m(\u001b[39m1\u001b[39m, \u001b[39m15\u001b[39m):\n\u001b[0;32m----> 2\u001b[0m     train(epoch)\n\u001b[1;32m      3\u001b[0m     test()\n",
      "Cell \u001b[0;32mIn[126], line 10\u001b[0m, in \u001b[0;36mtrain\u001b[0;34m(epoch)\u001b[0m\n\u001b[1;32m      7\u001b[0m recon_batch, mu, log_var \u001b[39m=\u001b[39m vae(data)\n\u001b[1;32m      8\u001b[0m loss \u001b[39m=\u001b[39m loss_function(recon_batch, data, mu, log_var)\n\u001b[0;32m---> 10\u001b[0m loss\u001b[39m.\u001b[39;49mbackward()\n\u001b[1;32m     11\u001b[0m train_loss \u001b[39m+\u001b[39m\u001b[39m=\u001b[39m loss\u001b[39m.\u001b[39mitem()\n\u001b[1;32m     12\u001b[0m optimizer\u001b[39m.\u001b[39mstep()\n",
      "File \u001b[0;32m/opt/homebrew/Caskroom/miniforge/base/envs/pytorch_env/lib/python3.8/site-packages/torch/_tensor.py:487\u001b[0m, in \u001b[0;36mTensor.backward\u001b[0;34m(self, gradient, retain_graph, create_graph, inputs)\u001b[0m\n\u001b[1;32m    477\u001b[0m \u001b[39mif\u001b[39;00m has_torch_function_unary(\u001b[39mself\u001b[39m):\n\u001b[1;32m    478\u001b[0m     \u001b[39mreturn\u001b[39;00m handle_torch_function(\n\u001b[1;32m    479\u001b[0m         Tensor\u001b[39m.\u001b[39mbackward,\n\u001b[1;32m    480\u001b[0m         (\u001b[39mself\u001b[39m,),\n\u001b[0;32m   (...)\u001b[0m\n\u001b[1;32m    485\u001b[0m         inputs\u001b[39m=\u001b[39minputs,\n\u001b[1;32m    486\u001b[0m     )\n\u001b[0;32m--> 487\u001b[0m torch\u001b[39m.\u001b[39;49mautograd\u001b[39m.\u001b[39;49mbackward(\n\u001b[1;32m    488\u001b[0m     \u001b[39mself\u001b[39;49m, gradient, retain_graph, create_graph, inputs\u001b[39m=\u001b[39;49minputs\n\u001b[1;32m    489\u001b[0m )\n",
      "File \u001b[0;32m/opt/homebrew/Caskroom/miniforge/base/envs/pytorch_env/lib/python3.8/site-packages/torch/autograd/__init__.py:200\u001b[0m, in \u001b[0;36mbackward\u001b[0;34m(tensors, grad_tensors, retain_graph, create_graph, grad_variables, inputs)\u001b[0m\n\u001b[1;32m    195\u001b[0m     retain_graph \u001b[39m=\u001b[39m create_graph\n\u001b[1;32m    197\u001b[0m \u001b[39m# The reason we repeat same the comment below is that\u001b[39;00m\n\u001b[1;32m    198\u001b[0m \u001b[39m# some Python versions print out the first line of a multi-line function\u001b[39;00m\n\u001b[1;32m    199\u001b[0m \u001b[39m# calls in the traceback and some print out the last line\u001b[39;00m\n\u001b[0;32m--> 200\u001b[0m Variable\u001b[39m.\u001b[39;49m_execution_engine\u001b[39m.\u001b[39;49mrun_backward(  \u001b[39m# Calls into the C++ engine to run the backward pass\u001b[39;49;00m\n\u001b[1;32m    201\u001b[0m     tensors, grad_tensors_, retain_graph, create_graph, inputs,\n\u001b[1;32m    202\u001b[0m     allow_unreachable\u001b[39m=\u001b[39;49m\u001b[39mTrue\u001b[39;49;00m, accumulate_grad\u001b[39m=\u001b[39;49m\u001b[39mTrue\u001b[39;49;00m)\n",
      "\u001b[0;31mKeyboardInterrupt\u001b[0m: "
     ]
    }
   ],
   "source": [
    "for epoch in range(1, 15):\n",
    "    train(epoch)\n",
    "    test()"
   ]
  },
  {
   "cell_type": "code",
   "execution_count": null,
   "id": "09a8a4d4",
   "metadata": {},
   "outputs": [],
   "source": []
  },
  {
   "cell_type": "markdown",
   "id": "6d31d88f-bdbb-4e64-987f-285594c49c24",
   "metadata": {},
   "source": [
    "### Train ###"
   ]
  },
  {
   "cell_type": "code",
   "execution_count": null,
   "id": "530129a0-4bdd-4474-bd46-9a922d95e3c5",
   "metadata": {},
   "outputs": [],
   "source": [
    "with torch.no_grad():\n",
    "    z = torch.randn(64, 2)\n",
    "    sample = vae.decoder(z)\n",
    "    \n",
    "    for (i, img) in enumerate(sample):\n",
    "        plt.subplot(8, 8, i+1)\n",
    "        plt.imshow(img.view(28, 28).numpy())\n",
    "        plt.axis('off')\n"
   ]
  }
 ],
 "metadata": {
  "kernelspec": {
   "display_name": "Python 3 (ipykernel)",
   "language": "python",
   "name": "python3"
  },
  "language_info": {
   "codemirror_mode": {
    "name": "ipython",
    "version": 3
   },
   "file_extension": ".py",
   "mimetype": "text/x-python",
   "name": "python",
   "nbconvert_exporter": "python",
   "pygments_lexer": "ipython3",
   "version": "3.8.16"
  }
 },
 "nbformat": 4,
 "nbformat_minor": 5
}
