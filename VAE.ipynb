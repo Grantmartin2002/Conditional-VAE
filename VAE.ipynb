{
 "cells": [
  {
   "cell_type": "markdown",
   "id": "0f184a27-0212-4fee-846c-c1f3464e6ef2",
   "metadata": {},
   "source": [
    "Load MNIST Dataset"
   ]
  },
  {
   "cell_type": "code",
   "execution_count": 37,
   "id": "142ede30-5042-492e-83c0-70c5953ad3ef",
   "metadata": {},
   "outputs": [],
   "source": [
    "import torch\n",
    "import torchvision\n",
    "import torch.nn as nn\n",
    "import torch.nn.functional as F\n",
    "from torchvision import datasets, transforms\n",
    "import numpy as np\n",
    "import matplotlib.pyplot as plt\n",
    "# Define a transformation to normalize the data\n",
    "transform = transforms.Compose([\n",
    "    transforms.ToTensor(),\n",
    "    transforms.Normalize((0.5,), (0.5,))\n",
    "])\n",
    "\n",
    "# Load the MNIST dataset\n",
    "trainset = datasets.MNIST('~/.pytorch/MNIST_data/', download=True, train=True, transform=transform)"
   ]
  },
  {
   "cell_type": "code",
   "execution_count": 132,
   "id": "f740e646-49df-4d00-8619-e5e74f6408b5",
   "metadata": {},
   "outputs": [
    {
     "name": "stdout",
     "output_type": "stream",
     "text": [
      "469 Training Samples.\n"
     ]
    },
    {
     "data": {
      "image/png": "[encoded data removed]",
      "text/plain": [
       "<Figure size 640x480 with 1 Axes>"
      ]
     },
     "metadata": {},
     "output_type": "display_data"
    }
   ],
   "source": [
    "\n",
    "# Define the data loaders\n",
    "batch_size = 128\n",
    "trainloader = torch.utils.data.DataLoader(trainset, batch_size=batch_size, shuffle=True)\n",
    "\n",
    "print(len(trainloader), \"Training Samples.\")\n",
    "\n",
    "\n",
    "# Get some random training images\n",
    "dataiter = iter(trainloader)\n",
    "images, labels = next(dataiter)\n",
    "\n",
    "# Define a function to show images\n",
    "def imshow(img):\n",
    "    img = img / 2 + 0.5     # unnormalize the image\n",
    "    npimg = img.numpy()\n",
    "    plt.imshow(np.transpose(npimg, (1, 2, 0)))\n",
    "    plt.show()\n",
    "\n",
    "# Show a couple of training images\n",
    "imshow(torchvision.utils.make_grid(images[:2]))"
   ]
  },
  {
   "cell_type": "markdown",
   "id": "de09781b-16c5-4b1d-b20e-161e9722d904",
   "metadata": {},
   "source": [
    "Define Encoder NN"
   ]
  },
  {
   "cell_type": "code",
   "execution_count": 133,
   "id": "24cd576b-a2cd-43ff-95b1-debab517c639",
   "metadata": {},
   "outputs": [],
   "source": [
    "class Encoder(nn.Module):\n",
    "    def __init__(self, input_dim, hidden_dim, z_dim, num_labels):\n",
    "        super(Encoder, self).__init__()\n",
    "        self.num_labels = num_labels\n",
    "        self.conv1 = nn.Conv2d(input_dim + num_labels, hidden_dim, kernel_size=3, stride=2, padding=1)\n",
    "        self.conv2 = nn.Conv2d(hidden_dim, hidden_dim, kernel_size=3, stride=2, padding=1)\n",
    "        self.fc1 = nn.Linear(hidden_dim * 7 * 7, z_dim)\n",
    "        self.fc2 = nn.Linear(hidden_dim * 7 * 7, z_dim)\n",
    "        \n",
    "    def forward(self, x, y):\n",
    "        y_onehot = torch.zeros(y.size(0), self.num_labels, x.shape[2], x.shape[3], device=x.device)\n",
    "        y_onehot.scatter_(1, y.unsqueeze(1).unsqueeze(-1).unsqueeze(-1), 1)\n",
    "        x = torch.cat([x, y_onehot], dim=1)\n",
    "        x = F.relu(self.conv1(x))\n",
    "        x = F.relu(self.conv2(x))\n",
    "        x = x.view(x.size(0), -1)\n",
    "        mu = self.fc1(x)\n",
    "        logvar = self.fc2(x)\n",
    "        return mu, logvar\n"
   ]
  },
  {
   "cell_type": "markdown",
   "id": "7b358733-0adb-437d-a18a-15e01229ab36",
   "metadata": {},
   "source": [
    "Define Decoder NN"
   ]
  },
  {
   "cell_type": "code",
   "execution_count": 134,
   "id": "38ac5991-9611-4a0a-a98b-c97d0a3f0071",
   "metadata": {},
   "outputs": [],
   "source": [
    "class Decoder(nn.Module):\n",
    "    def __init__(self, z_dim, hidden_dim, output_dim, num_labels):\n",
    "        super(Decoder, self).__init__()\n",
    "        self.num_labels = num_labels\n",
    "        self.fc = nn.Linear(z_dim + num_labels, hidden_dim * 7 * 7)\n",
    "        self.deconv1 = nn.ConvTranspose2d(hidden_dim, hidden_dim, kernel_size=3, stride=2, padding=1, output_padding=1)\n",
    "        self.deconv2 = nn.ConvTranspose2d(hidden_dim, hidden_dim, kernel_size=3, stride=2, padding=1, output_padding=1)\n",
    "        self.deconv3 = nn.ConvTranspose2d(hidden_dim, output_dim, kernel_size=3, stride=1, padding=1)\n",
    "\n",
    "    def forward(self, z, y):\n",
    "        y = y.view(-1, 1).repeat(1, self.num_labels)  # Add this line to reshape the labels tensor\n",
    "        z = torch.cat([z, y], dim=1)\n",
    "        x = F.relu(self.fc(z))\n",
    "        x = x.view(-1, self.deconv1.in_channels, 7, 7)\n",
    "        x = F.relu(self.deconv1(x))\n",
    "        x = F.relu(self.deconv2(x))\n",
    "        x = self.deconv3(x)\n",
    "        x = torch.sigmoid(x)\n",
    "        return x"
   ]
  },
  {
   "cell_type": "markdown",
   "id": "488c5b85-db2f-46fd-8466-5f6a5d5ddc22",
   "metadata": {},
   "source": [
    "Define VAE"
   ]
  },
  {
   "cell_type": "code",
   "execution_count": 135,
   "id": "f71ce5f1-fc54-4c6c-9374-3dcd513234ee",
   "metadata": {},
   "outputs": [],
   "source": [
    "class VAE(nn.Module):\n",
    "    def __init__(self, input_dim, hidden_dim, z_dim, output_dim, num_labels):\n",
    "        super(VAE, self).__init__()\n",
    "        self.input_dim = input_dim\n",
    "        self.num_labels = num_labels\n",
    "        self.encoder = Encoder(input_dim, hidden_dim, z_dim, num_labels)\n",
    "        self.decoder = Decoder(z_dim, hidden_dim, output_dim, num_labels)\n",
    "\n",
    "    def reparameterize(self, mu, logvar):\n",
    "        std = torch.exp(0.5 * logvar)\n",
    "        eps = torch.randn_like(std)\n",
    "        return mu + eps * std\n",
    "\n",
    "    def forward(self, x, y):\n",
    "        mu, logvar = self.encoder(x, y)\n",
    "        z = self.reparameterize(mu, logvar)\n",
    "        x_recon = self.decoder(z, y)\n",
    "        return x_recon, mu, logvar\n",
    "\n",
    "    def vae_loss(self, x_recon, x, mu, logvar, kl_weight):\n",
    "        # Reconstruction loss\n",
    "        recon_loss = F.mse_loss(x_recon, x, reduction='sum')\n",
    "\n",
    "        # KL divergence loss\n",
    "        kl_loss = -0.5 * torch.sum(1 + logvar - mu.pow(2) - logvar.exp())\n",
    "\n",
    "        # Total loss\n",
    "        total_loss = recon_loss + kl_weight * kl_loss\n",
    "\n",
    "        return total_loss, recon_loss, kl_loss"
   ]
  },
  {
   "cell_type": "markdown",
   "id": "e9477256-3c11-47b7-ace0-2be11961bba2",
   "metadata": {},
   "source": [
    "Train VAE"
   ]
  },
  {
   "cell_type": "code",
   "execution_count": 138,
   "id": "7b2538b8-6075-421e-83cc-8975caac0442",
   "metadata": {},
   "outputs": [
    {
     "name": "stdout",
     "output_type": "stream",
     "text": [
      "CUDA is available!\n",
      "GPU: NVIDIA GeForce GTX 1080 Ti\n",
      "Epoch: 0 [0/60000 (0%)]\tLoss: 1684.745361\tRecon Loss: 1684.743774\tKL Loss: 0.016432\n",
      "Epoch: 0 [12800/60000 (21%)]\tLoss: 727.762085\tRecon Loss: 726.878418\tKL Loss: 8.836498\n"
     ]
    },
    {
     "ename": "KeyboardInterrupt",
     "evalue": "",
     "output_type": "error",
     "traceback": [
      "\u001b[1;31m---------------------------------------------------------------------------\u001b[0m",
      "\u001b[1;31mKeyboardInterrupt\u001b[0m                         Traceback (most recent call last)",
      "Cell \u001b[1;32mIn[138], line 37\u001b[0m\n\u001b[0;32m     35\u001b[0m labels \u001b[38;5;241m=\u001b[39m labels\u001b[38;5;241m.\u001b[39mto(device)\n\u001b[0;32m     36\u001b[0m optimizer\u001b[38;5;241m.\u001b[39mzero_grad()\n\u001b[1;32m---> 37\u001b[0m recon_data, mu, logvar \u001b[38;5;241m=\u001b[39m \u001b[43mvae\u001b[49m\u001b[43m(\u001b[49m\u001b[43mdata\u001b[49m\u001b[43m,\u001b[49m\u001b[43m \u001b[49m\u001b[43mlabels\u001b[49m\u001b[43m)\u001b[49m\n\u001b[0;32m     38\u001b[0m loss, recon_loss, kl_loss \u001b[38;5;241m=\u001b[39m vae\u001b[38;5;241m.\u001b[39mvae_loss(recon_data, data, mu, logvar, kl_weight)\n\u001b[0;32m     39\u001b[0m loss\u001b[38;5;241m.\u001b[39mbackward()\n",
      "File \u001b[1;32m~\\anaconda3\\envs\\myenv\\lib\\site-packages\\torch\\nn\\modules\\module.py:1501\u001b[0m, in \u001b[0;36mModule._call_impl\u001b[1;34m(self, *args, **kwargs)\u001b[0m\n\u001b[0;32m   1496\u001b[0m \u001b[38;5;66;03m# If we don't have any hooks, we want to skip the rest of the logic in\u001b[39;00m\n\u001b[0;32m   1497\u001b[0m \u001b[38;5;66;03m# this function, and just call forward.\u001b[39;00m\n\u001b[0;32m   1498\u001b[0m \u001b[38;5;28;01mif\u001b[39;00m \u001b[38;5;129;01mnot\u001b[39;00m (\u001b[38;5;28mself\u001b[39m\u001b[38;5;241m.\u001b[39m_backward_hooks \u001b[38;5;129;01mor\u001b[39;00m \u001b[38;5;28mself\u001b[39m\u001b[38;5;241m.\u001b[39m_backward_pre_hooks \u001b[38;5;129;01mor\u001b[39;00m \u001b[38;5;28mself\u001b[39m\u001b[38;5;241m.\u001b[39m_forward_hooks \u001b[38;5;129;01mor\u001b[39;00m \u001b[38;5;28mself\u001b[39m\u001b[38;5;241m.\u001b[39m_forward_pre_hooks\n\u001b[0;32m   1499\u001b[0m         \u001b[38;5;129;01mor\u001b[39;00m _global_backward_pre_hooks \u001b[38;5;129;01mor\u001b[39;00m _global_backward_hooks\n\u001b[0;32m   1500\u001b[0m         \u001b[38;5;129;01mor\u001b[39;00m _global_forward_hooks \u001b[38;5;129;01mor\u001b[39;00m _global_forward_pre_hooks):\n\u001b[1;32m-> 1501\u001b[0m     \u001b[38;5;28;01mreturn\u001b[39;00m forward_call(\u001b[38;5;241m*\u001b[39margs, \u001b[38;5;241m*\u001b[39m\u001b[38;5;241m*\u001b[39mkwargs)\n\u001b[0;32m   1502\u001b[0m \u001b[38;5;66;03m# Do not call functions when jit is used\u001b[39;00m\n\u001b[0;32m   1503\u001b[0m full_backward_hooks, non_full_backward_hooks \u001b[38;5;241m=\u001b[39m [], []\n",
      "Cell \u001b[1;32mIn[135], line 15\u001b[0m, in \u001b[0;36mVAE.forward\u001b[1;34m(self, x, y)\u001b[0m\n\u001b[0;32m     14\u001b[0m \u001b[38;5;28;01mdef\u001b[39;00m \u001b[38;5;21mforward\u001b[39m(\u001b[38;5;28mself\u001b[39m, x, y):\n\u001b[1;32m---> 15\u001b[0m     mu, logvar \u001b[38;5;241m=\u001b[39m \u001b[38;5;28;43mself\u001b[39;49m\u001b[38;5;241;43m.\u001b[39;49m\u001b[43mencoder\u001b[49m\u001b[43m(\u001b[49m\u001b[43mx\u001b[49m\u001b[43m,\u001b[49m\u001b[43m \u001b[49m\u001b[43my\u001b[49m\u001b[43m)\u001b[49m\n\u001b[0;32m     16\u001b[0m     z \u001b[38;5;241m=\u001b[39m \u001b[38;5;28mself\u001b[39m\u001b[38;5;241m.\u001b[39mreparameterize(mu, logvar)\n\u001b[0;32m     17\u001b[0m     x_recon \u001b[38;5;241m=\u001b[39m \u001b[38;5;28mself\u001b[39m\u001b[38;5;241m.\u001b[39mdecoder(z, y)\n",
      "File \u001b[1;32m~\\anaconda3\\envs\\myenv\\lib\\site-packages\\torch\\nn\\modules\\module.py:1501\u001b[0m, in \u001b[0;36mModule._call_impl\u001b[1;34m(self, *args, **kwargs)\u001b[0m\n\u001b[0;32m   1496\u001b[0m \u001b[38;5;66;03m# If we don't have any hooks, we want to skip the rest of the logic in\u001b[39;00m\n\u001b[0;32m   1497\u001b[0m \u001b[38;5;66;03m# this function, and just call forward.\u001b[39;00m\n\u001b[0;32m   1498\u001b[0m \u001b[38;5;28;01mif\u001b[39;00m \u001b[38;5;129;01mnot\u001b[39;00m (\u001b[38;5;28mself\u001b[39m\u001b[38;5;241m.\u001b[39m_backward_hooks \u001b[38;5;129;01mor\u001b[39;00m \u001b[38;5;28mself\u001b[39m\u001b[38;5;241m.\u001b[39m_backward_pre_hooks \u001b[38;5;129;01mor\u001b[39;00m \u001b[38;5;28mself\u001b[39m\u001b[38;5;241m.\u001b[39m_forward_hooks \u001b[38;5;129;01mor\u001b[39;00m \u001b[38;5;28mself\u001b[39m\u001b[38;5;241m.\u001b[39m_forward_pre_hooks\n\u001b[0;32m   1499\u001b[0m         \u001b[38;5;129;01mor\u001b[39;00m _global_backward_pre_hooks \u001b[38;5;129;01mor\u001b[39;00m _global_backward_hooks\n\u001b[0;32m   1500\u001b[0m         \u001b[38;5;129;01mor\u001b[39;00m _global_forward_hooks \u001b[38;5;129;01mor\u001b[39;00m _global_forward_pre_hooks):\n\u001b[1;32m-> 1501\u001b[0m     \u001b[38;5;28;01mreturn\u001b[39;00m forward_call(\u001b[38;5;241m*\u001b[39margs, \u001b[38;5;241m*\u001b[39m\u001b[38;5;241m*\u001b[39mkwargs)\n\u001b[0;32m   1502\u001b[0m \u001b[38;5;66;03m# Do not call functions when jit is used\u001b[39;00m\n\u001b[0;32m   1503\u001b[0m full_backward_hooks, non_full_backward_hooks \u001b[38;5;241m=\u001b[39m [], []\n",
      "Cell \u001b[1;32mIn[133], line 17\u001b[0m, in \u001b[0;36mEncoder.forward\u001b[1;34m(self, x, y)\u001b[0m\n\u001b[0;32m     15\u001b[0m x \u001b[38;5;241m=\u001b[39m F\u001b[38;5;241m.\u001b[39mrelu(\u001b[38;5;28mself\u001b[39m\u001b[38;5;241m.\u001b[39mconv2(x))\n\u001b[0;32m     16\u001b[0m x \u001b[38;5;241m=\u001b[39m x\u001b[38;5;241m.\u001b[39mview(x\u001b[38;5;241m.\u001b[39msize(\u001b[38;5;241m0\u001b[39m), \u001b[38;5;241m-\u001b[39m\u001b[38;5;241m1\u001b[39m)\n\u001b[1;32m---> 17\u001b[0m mu \u001b[38;5;241m=\u001b[39m \u001b[38;5;28;43mself\u001b[39;49m\u001b[38;5;241;43m.\u001b[39;49m\u001b[43mfc1\u001b[49m\u001b[43m(\u001b[49m\u001b[43mx\u001b[49m\u001b[43m)\u001b[49m\n\u001b[0;32m     18\u001b[0m logvar \u001b[38;5;241m=\u001b[39m \u001b[38;5;28mself\u001b[39m\u001b[38;5;241m.\u001b[39mfc2(x)\n\u001b[0;32m     19\u001b[0m \u001b[38;5;28;01mreturn\u001b[39;00m mu, logvar\n",
      "File \u001b[1;32m~\\anaconda3\\envs\\myenv\\lib\\site-packages\\torch\\nn\\modules\\module.py:1501\u001b[0m, in \u001b[0;36mModule._call_impl\u001b[1;34m(self, *args, **kwargs)\u001b[0m\n\u001b[0;32m   1496\u001b[0m \u001b[38;5;66;03m# If we don't have any hooks, we want to skip the rest of the logic in\u001b[39;00m\n\u001b[0;32m   1497\u001b[0m \u001b[38;5;66;03m# this function, and just call forward.\u001b[39;00m\n\u001b[0;32m   1498\u001b[0m \u001b[38;5;28;01mif\u001b[39;00m \u001b[38;5;129;01mnot\u001b[39;00m (\u001b[38;5;28mself\u001b[39m\u001b[38;5;241m.\u001b[39m_backward_hooks \u001b[38;5;129;01mor\u001b[39;00m \u001b[38;5;28mself\u001b[39m\u001b[38;5;241m.\u001b[39m_backward_pre_hooks \u001b[38;5;129;01mor\u001b[39;00m \u001b[38;5;28mself\u001b[39m\u001b[38;5;241m.\u001b[39m_forward_hooks \u001b[38;5;129;01mor\u001b[39;00m \u001b[38;5;28mself\u001b[39m\u001b[38;5;241m.\u001b[39m_forward_pre_hooks\n\u001b[0;32m   1499\u001b[0m         \u001b[38;5;129;01mor\u001b[39;00m _global_backward_pre_hooks \u001b[38;5;129;01mor\u001b[39;00m _global_backward_hooks\n\u001b[0;32m   1500\u001b[0m         \u001b[38;5;129;01mor\u001b[39;00m _global_forward_hooks \u001b[38;5;129;01mor\u001b[39;00m _global_forward_pre_hooks):\n\u001b[1;32m-> 1501\u001b[0m     \u001b[38;5;28;01mreturn\u001b[39;00m forward_call(\u001b[38;5;241m*\u001b[39margs, \u001b[38;5;241m*\u001b[39m\u001b[38;5;241m*\u001b[39mkwargs)\n\u001b[0;32m   1502\u001b[0m \u001b[38;5;66;03m# Do not call functions when jit is used\u001b[39;00m\n\u001b[0;32m   1503\u001b[0m full_backward_hooks, non_full_backward_hooks \u001b[38;5;241m=\u001b[39m [], []\n",
      "File \u001b[1;32m~\\anaconda3\\envs\\myenv\\lib\\site-packages\\torch\\nn\\modules\\linear.py:114\u001b[0m, in \u001b[0;36mLinear.forward\u001b[1;34m(self, input)\u001b[0m\n\u001b[0;32m    113\u001b[0m \u001b[38;5;28;01mdef\u001b[39;00m \u001b[38;5;21mforward\u001b[39m(\u001b[38;5;28mself\u001b[39m, \u001b[38;5;28minput\u001b[39m: Tensor) \u001b[38;5;241m-\u001b[39m\u001b[38;5;241m>\u001b[39m Tensor:\n\u001b[1;32m--> 114\u001b[0m     \u001b[38;5;28;01mreturn\u001b[39;00m \u001b[43mF\u001b[49m\u001b[38;5;241;43m.\u001b[39;49m\u001b[43mlinear\u001b[49m\u001b[43m(\u001b[49m\u001b[38;5;28;43minput\u001b[39;49m\u001b[43m,\u001b[49m\u001b[43m \u001b[49m\u001b[38;5;28;43mself\u001b[39;49m\u001b[38;5;241;43m.\u001b[39;49m\u001b[43mweight\u001b[49m\u001b[43m,\u001b[49m\u001b[43m \u001b[49m\u001b[38;5;28;43mself\u001b[39;49m\u001b[38;5;241;43m.\u001b[39;49m\u001b[43mbias\u001b[49m\u001b[43m)\u001b[49m\n",
      "\u001b[1;31mKeyboardInterrupt\u001b[0m: "
     ]
    }
   ],
   "source": [
    "if torch.cuda.is_available():\n",
    "    print(\"CUDA is available!\")\n",
    "    device = torch.device(\"cuda\")\n",
    "    print(\"GPU:\", torch.cuda.get_device_name(0))\n",
    "else:\n",
    "    print(\"CUDA is not available.\")\n",
    "    print(torch.__version__)\n",
    "    device = torch.device(\"cpu\")\n",
    "\n",
    "\n",
    "# Define the hyperparameters\n",
    "input_dim = 1\n",
    "hidden_dim = 32\n",
    "z_dim = 20\n",
    "output_dim = 1\n",
    "num_labels = 10\n",
    "num_epochs = 10\n",
    "learning_rate = 1e-3\n",
    "kl_weight = 0.1\n",
    "\n",
    "# Create the VAE model\n",
    "vae = VAE(input_dim, hidden_dim, z_dim, output_dim, num_labels).to(device)\n",
    "\n",
    "# Define the optimizer\n",
    "optimizer = torch.optim.Adam(vae.parameters(), lr=learning_rate)\n",
    "\n",
    "# Define the training loop\n",
    "for epoch in range(num_epochs):\n",
    "    vae.train()\n",
    "    train_loss = 0\n",
    "    train_recon_loss = 0\n",
    "    train_kl_loss = 0\n",
    "    for batch_idx, (data, labels) in enumerate(trainloader):\n",
    "        data = data.to(device)\n",
    "        labels = labels.to(device)\n",
    "        optimizer.zero_grad()\n",
    "        recon_data, mu, logvar = vae(data, labels)\n",
    "        loss, recon_loss, kl_loss = vae.vae_loss(recon_data, data, mu, logvar, kl_weight)\n",
    "        loss.backward()\n",
    "        train_loss += loss.item()\n",
    "        train_recon_loss += recon_loss.item()\n",
    "        train_kl_loss += kl_loss.item()\n",
    "        optimizer.step()\n",
    "        if batch_idx % 100 == 0:\n",
    "            print('Epoch: {} [{}/{} ({:.0f}%)]\\tLoss: {:.6f}\\tRecon Loss: {:.6f}\\tKL Loss: {:.6f}'.format(\n",
    "                epoch, batch_idx * len(data), len(trainloader.dataset),\n",
    "                100. * batch_idx / len(trainloader),\n",
    "                loss.item() / len(data),\n",
    "                recon_loss.item() / len(data),\n",
    "                kl_loss.item() / len(data)))\n",
    "\n",
    "    print('====> Epoch: {} Average loss: {:.4f} Average Recon Loss: {:.4f} Average KL Loss: {:.4f}'.format(\n",
    "          epoch, train_loss / len(trainloader.dataset),\n",
    "          train_recon_loss / len(trainloader.dataset),\n",
    "          train_kl_loss / len(trainloader.dataset)))\n"
   ]
  },
  {
   "cell_type": "markdown",
   "id": "1e053450-b90e-41a1-8de8-155952ba0f55",
   "metadata": {},
   "source": [
    "Print Example Results"
   ]
  },
  {
   "cell_type": "code",
   "execution_count": 139,
   "id": "55bf9ffa-bcc9-471f-afea-8b797bbf2589",
   "metadata": {},
   "outputs": [
    {
     "data": {
      "image/png": "[encoded data removed]",
      "text/plain": [
       "<Figure size 1000x2000 with 30 Axes>"
      ]
     },
     "metadata": {},
     "output_type": "display_data"
    }
   ],
   "source": [
    "import matplotlib.pyplot as plt\n",
    "\n",
    "vae.eval()\n",
    "num_examples = 30  # 3 examples of each digit\n",
    "num_digits = 10\n",
    "fig, axes = plt.subplots(nrows=num_digits, ncols=3, figsize=(10, 20), sharex=True, sharey=True)\n",
    "\n",
    "for digit in range(num_digits):\n",
    "    for i in range(3):\n",
    "        z_sample = torch.randn(1, z_dim).to(device)\n",
    "        label = torch.tensor([digit], dtype=torch.long).to(device)\n",
    "        with torch.no_grad():\n",
    "            generated_image = vae.decoder(z_sample, label)\n",
    "        generated_image = generated_image.cpu().numpy()  # Transfer the tensor to the CPU and convert it to a NumPy array\n",
    "        axes[digit, i].imshow(generated_image.reshape(28, 28), cmap='gray')\n",
    "        axes[digit, i].axis('off')\n",
    "\n",
    "plt.show()\n"
   ]
  },
  {
   "cell_type": "markdown",
   "id": "4af6c0ae-ca9e-499d-9e7e-651d01e2835b",
   "metadata": {},
   "source": [
    "Evaluate Results using Fréchet Inception Distance (FID) and Structural Similarity Index (SSIM) Learned Perceptual Image Patch Similarity (LPIPS)"
   ]
  },
  {
   "cell_type": "code",
   "execution_count": 13,
   "id": "9b9f044b-65b0-4b69-a090-7313c6723e1d",
   "metadata": {},
   "outputs": [],
   "source": [
    "# TODO"
   ]
  },
  {
   "cell_type": "markdown",
   "id": "7c08289d-604c-45a6-85a1-6e10546060c6",
   "metadata": {},
   "source": [
    "Load CelebA Dataset"
   ]
  },
  {
   "cell_type": "code",
   "execution_count": 14,
   "id": "5abcd44b-7783-44aa-a2cc-129f006f64a1",
   "metadata": {},
   "outputs": [],
   "source": [
    "# TODO"
   ]
  },
  {
   "cell_type": "markdown",
   "id": "24752959-1749-45b8-922f-be4d6ed62f9a",
   "metadata": {},
   "source": [
    "Train VAE on CelebA Dataset"
   ]
  },
  {
   "cell_type": "code",
   "execution_count": 15,
   "id": "06295071-bb87-46b9-99cc-07a57900708d",
   "metadata": {},
   "outputs": [],
   "source": [
    "# TODO"
   ]
  },
  {
   "cell_type": "markdown",
   "id": "d8633495-1fc1-46ba-a87a-d9e373e47976",
   "metadata": {},
   "source": [
    "Print Example Results"
   ]
  },
  {
   "cell_type": "code",
   "execution_count": 16,
   "id": "f0cf1d5a-b5c8-4031-93c1-7c08dad0571c",
   "metadata": {},
   "outputs": [],
   "source": [
    "# TODO"
   ]
  },
  {
   "cell_type": "markdown",
   "id": "4d4a61c8-8da1-4cc5-88c1-dbd8fcc6ee91",
   "metadata": {},
   "source": [
    "Evaluate Results using Fréchet Inception Distance (FID) and Structural Similarity Index (SSIM) Learned Perceptual Image Patch Similarity (LPIPS)"
   ]
  },
  {
   "cell_type": "code",
   "execution_count": 17,
   "id": "bbdbfb94-7435-456d-84f6-51669ba04dfe",
   "metadata": {},
   "outputs": [],
   "source": [
    "# TODO"
   ]
  },
  {
   "cell_type": "markdown",
   "id": "dd111180-1ae4-44e6-8af1-24fa6e659ac1",
   "metadata": {},
   "source": [
    "Maybe compare to other models?"
   ]
  },
  {
   "cell_type": "code",
   "execution_count": 18,
   "id": "bd9ffe5d-4c4f-4a36-a25c-e02e392bd3cd",
   "metadata": {},
   "outputs": [],
   "source": [
    "# TODO"
   ]
  }
 ],
 "metadata": {
  "kernelspec": {
   "display_name": "Python 3 (ipykernel)",
   "language": "python",
   "name": "python3"
  },
  "language_info": {
   "codemirror_mode": {
    "name": "ipython",
    "version": 3
   },
   "file_extension": ".py",
   "mimetype": "text/x-python",
   "name": "python",
   "nbconvert_exporter": "python",
   "pygments_lexer": "ipython3",
   "version": "3.9.13"
  }
 },
 "nbformat": 4,
 "nbformat_minor": 5
}
